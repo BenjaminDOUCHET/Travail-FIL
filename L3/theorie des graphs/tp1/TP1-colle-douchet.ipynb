{
 "cells": [
  {
   "cell_type": "markdown",
   "metadata": {},
   "source": [
    "# TP1 - partie 1\n",
    "\n",
    "Dans cette première partie de TP nous allons représenter des graphes par une matrice d'adjacence (voir section 1.3.1 du cours)."
   ]
  },
  {
   "cell_type": "code",
   "execution_count": 5,
   "metadata": {},
   "outputs": [],
   "source": [
    "import numpy as np"
   ]
  },
  {
   "cell_type": "markdown",
   "metadata": {},
   "source": [
    "Nous utilisons une fonctionalité du module NumPy permettant de créer une matrice (un tableau de tableaux) à partir d'une listes de listes, chacune des sous-liste représentant une ligne de la matrice."
   ]
  },
  {
   "cell_type": "code",
   "execution_count": 6,
   "metadata": {},
   "outputs": [],
   "source": [
    "g = np.array([[0,1,1,0],[1,0,1,0],[1,1,0,0],[0,0,0,0]])"
   ]
  },
  {
   "cell_type": "markdown",
   "metadata": {},
   "source": [
    "Bien entendu, la matrice représentant un graphe non orienté (ceux qu'on manipule en début de ce cours) sont toujours symétriques."
   ]
  },
  {
   "cell_type": "code",
   "execution_count": 7,
   "metadata": {},
   "outputs": [
    {
     "data": {
      "text/plain": [
       "array([[0, 1, 1, 0],\n",
       "       [1, 0, 1, 0],\n",
       "       [1, 1, 0, 0],\n",
       "       [0, 0, 0, 0]])"
      ]
     },
     "execution_count": 7,
     "metadata": {},
     "output_type": "execute_result"
    }
   ],
   "source": [
    "g"
   ]
  },
  {
   "cell_type": "markdown",
   "metadata": {},
   "source": [
    "L'accès à un élément d'une telle matrice se fait avec une notation usuelle d'accès à un tableau, en n'oubliant pas que l'on travaille avec des indices débutant à 0."
   ]
  },
  {
   "cell_type": "code",
   "execution_count": 8,
   "metadata": {},
   "outputs": [
    {
     "data": {
      "text/plain": [
       "0"
      ]
     },
     "execution_count": 8,
     "metadata": {},
     "output_type": "execute_result"
    }
   ],
   "source": [
    "g[0][0]"
   ]
  },
  {
   "cell_type": "code",
   "execution_count": 9,
   "metadata": {},
   "outputs": [
    {
     "data": {
      "text/plain": [
       "1"
      ]
     },
     "execution_count": 9,
     "metadata": {},
     "output_type": "execute_result"
    }
   ],
   "source": [
    "g[0][1]"
   ]
  },
  {
   "cell_type": "markdown",
   "metadata": {},
   "source": [
    "Le premier indice représente la ligne, le second la colonne. Le nombre de sommets du graphe est obtenu directement par la taille de la matrice."
   ]
  },
  {
   "cell_type": "markdown",
   "metadata": {},
   "source": [
    "Ecrire le code permettant de tester si il existe une arête entre le sommet 0 et le sommet 2. Entre le sommet 2 et le sommet 1."
   ]
  },
  {
   "cell_type": "code",
   "execution_count": 10,
   "metadata": {},
   "outputs": [
    {
     "data": {
      "text/plain": [
       "True"
      ]
     },
     "execution_count": 10,
     "metadata": {},
     "output_type": "execute_result"
    }
   ],
   "source": [
    "g[0][2]==1"
   ]
  },
  {
   "cell_type": "code",
   "execution_count": 11,
   "metadata": {},
   "outputs": [
    {
     "data": {
      "text/plain": [
       "True"
      ]
     },
     "execution_count": 11,
     "metadata": {},
     "output_type": "execute_result"
    }
   ],
   "source": [
    "g[2][1]==1"
   ]
  },
  {
   "cell_type": "markdown",
   "metadata": {},
   "source": [
    "Ecrire une fonction `voisins` qui prend en entrée un graphe sous forme de matrice d'adjacence (qu'on supposera correcte) et un numéro sommet (qu'on supposera valide) et retourne la liste des sommets voisins (ou adjacents)."
   ]
  },
  {
   "cell_type": "code",
   "execution_count": 12,
   "metadata": {},
   "outputs": [],
   "source": [
    "def voisins (graphe, sommet):\n",
    "    \"\"\"\n",
    "    Retourne la liste des successeurs du sommet dans le graphe.\n",
    "    CU: le sommet existe\n",
    "    CU: le graphe est correct\n",
    "    \"\"\"\n",
    "    res = []\n",
    "    for i in range(len(graphe)) :\n",
    "        if graphe[sommet][i]==1 :\n",
    "            res.append(i)\n",
    "    return res"
   ]
  },
  {
   "cell_type": "code",
   "execution_count": 13,
   "metadata": {},
   "outputs": [
    {
     "data": {
      "text/plain": [
       "[1, 2]"
      ]
     },
     "execution_count": 13,
     "metadata": {},
     "output_type": "execute_result"
    }
   ],
   "source": [
    "voisins(g,0)"
   ]
  },
  {
   "cell_type": "code",
   "execution_count": 14,
   "metadata": {},
   "outputs": [
    {
     "data": {
      "text/plain": [
       "[0, 2]"
      ]
     },
     "execution_count": 14,
     "metadata": {},
     "output_type": "execute_result"
    }
   ],
   "source": [
    "voisins(g,1)"
   ]
  },
  {
   "cell_type": "code",
   "execution_count": 15,
   "metadata": {},
   "outputs": [
    {
     "data": {
      "text/plain": [
       "[0, 1]"
      ]
     },
     "execution_count": 15,
     "metadata": {},
     "output_type": "execute_result"
    }
   ],
   "source": [
    "voisins(g,2)"
   ]
  },
  {
   "cell_type": "code",
   "execution_count": 16,
   "metadata": {},
   "outputs": [
    {
     "data": {
      "text/plain": [
       "[]"
      ]
     },
     "execution_count": 16,
     "metadata": {},
     "output_type": "execute_result"
    }
   ],
   "source": [
    "voisins(g,3)"
   ]
  },
  {
   "cell_type": "markdown",
   "metadata": {},
   "source": [
    "Ecrire une fonction `taille` qui retourne la taille d'un graphe donné sous forme d'une matrice d'adjacence (supposée correcte)."
   ]
  },
  {
   "cell_type": "code",
   "execution_count": 17,
   "metadata": {},
   "outputs": [],
   "source": [
    "def taille (graphe):\n",
    "    \"\"\"\n",
    "    retourne la taille du graphe\n",
    "    cu : graphe est valide\n",
    "    \"\"\"\n",
    "    res = 0\n",
    "    for i in range(len(graphe)):\n",
    "        for j in range(len(graphe)) :\n",
    "            if graphe[i][j]==1 :\n",
    "                res+=1\n",
    "    return res//2"
   ]
  },
  {
   "cell_type": "code",
   "execution_count": 18,
   "metadata": {},
   "outputs": [
    {
     "data": {
      "text/plain": [
       "3"
      ]
     },
     "execution_count": 18,
     "metadata": {},
     "output_type": "execute_result"
    }
   ],
   "source": [
    "taille(g)"
   ]
  },
  {
   "cell_type": "markdown",
   "metadata": {},
   "source": [
    "Ecrire une fonction `creer` qui prend en entrée une liste de couples de numéros de sommets représentant les arêtes d'un graphe et qui retourne une matrice d'adjacence représentant le graphe. Pour simplifier, on pourra passer en paramètre le nombre de sommets."
   ]
  },
  {
   "cell_type": "code",
   "execution_count": 19,
   "metadata": {},
   "outputs": [],
   "source": [
    "def creer (graphe, nombre_de_sommets):\n",
    "    \"\"\"\n",
    "    creé la matrice de liaison de la liste des liaison en param\n",
    "    pour les nb sommet en param\n",
    "    \"\"\"\n",
    "    res =[]\n",
    "    inter =[]\n",
    "    #on crée d'abord une matrice de 0 à la bonne taille\n",
    "    \n",
    "    for i in range(nombre_de_sommets) : \n",
    "        for j in range(nombre_de_sommets) :\n",
    "            inter.append(0)\n",
    "        res.append(inter)\n",
    "        inter=[]\n",
    "    # on viens set  à 1 les coordonées des tuples\n",
    "    for k in graphe :\n",
    "        res[k[0]][k[1]]=1\n",
    "        res[k[1]][k[0]]=1\n",
    "\n",
    "    return res"
   ]
  },
  {
   "cell_type": "code",
   "execution_count": 20,
   "metadata": {},
   "outputs": [],
   "source": [
    "g = creer([(0,3), (1, 2), (1, 3)],4)"
   ]
  },
  {
   "cell_type": "markdown",
   "metadata": {},
   "source": [
    "Vérifions que `g` a la bonne taille."
   ]
  },
  {
   "cell_type": "code",
   "execution_count": 21,
   "metadata": {},
   "outputs": [
    {
     "data": {
      "text/plain": [
       "3"
      ]
     },
     "execution_count": 21,
     "metadata": {},
     "output_type": "execute_result"
    }
   ],
   "source": [
    "taille(g)"
   ]
  },
  {
   "cell_type": "markdown",
   "metadata": {},
   "source": [
    "Ecrire une procédure qui étant donnés un graphe représenté par une matrice d'adjacence, deux sommets (numéros de sommets) ajoute une arête entre ces deux sommets et modifie le graphe passé en paramètre."
   ]
  },
  {
   "cell_type": "code",
   "execution_count": 22,
   "metadata": {},
   "outputs": [],
   "source": [
    "def ajouter_arete (graphe, sommet1, sommet2):\n",
    "    \"\"\"\n",
    "    cu: graphe supposé valide\n",
    "    cu :sommet1 et sommet2 valide pour le graph\n",
    "    \"\"\"\n",
    "    graphe[sommet1][sommet2]=1\n",
    "    graphe[sommet2][sommet1]=1"
   ]
  },
  {
   "cell_type": "code",
   "execution_count": 23,
   "metadata": {},
   "outputs": [],
   "source": [
    "ajouter_arete(g,2,3)"
   ]
  },
  {
   "cell_type": "markdown",
   "metadata": {},
   "source": [
    "Vérifions que `g` a la bonne taille une fois une nouvelle arête ajoutée."
   ]
  },
  {
   "cell_type": "code",
   "execution_count": 24,
   "metadata": {},
   "outputs": [
    {
     "data": {
      "text/plain": [
       "4"
      ]
     },
     "execution_count": 24,
     "metadata": {},
     "output_type": "execute_result"
    }
   ],
   "source": [
    "taille(g)"
   ]
  },
  {
   "cell_type": "code",
   "execution_count": null,
   "metadata": {},
   "outputs": [],
   "source": []
  },
  {
   "cell_type": "code",
   "execution_count": null,
   "metadata": {},
   "outputs": [],
   "source": []
  },
  {
   "cell_type": "code",
   "execution_count": null,
   "metadata": {},
   "outputs": [],
   "source": []
  },
  {
   "cell_type": "code",
   "execution_count": null,
   "metadata": {},
   "outputs": [],
   "source": []
  }
 ],
 "metadata": {
  "kernelspec": {
   "display_name": "Python 3 (ipykernel)",
   "language": "python",
   "name": "python3"
  },
  "language_info": {
   "codemirror_mode": {
    "name": "ipython",
    "version": 3
   },
   "file_extension": ".py",
   "mimetype": "text/x-python",
   "name": "python",
   "nbconvert_exporter": "python",
   "pygments_lexer": "ipython3",
   "version": "3.8.10"
  }
 },
 "nbformat": 4,
 "nbformat_minor": 4
}
