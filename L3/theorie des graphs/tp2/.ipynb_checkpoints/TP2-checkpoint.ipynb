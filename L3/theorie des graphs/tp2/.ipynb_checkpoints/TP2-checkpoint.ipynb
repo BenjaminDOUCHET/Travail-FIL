{
 "cells": [
  {
   "cell_type": "markdown",
   "metadata": {},
   "source": [
    "# TP2 - parcours dans les graphes (en présentiel)"
   ]
  },
  {
   "cell_type": "markdown",
   "metadata": {},
   "source": [
    "Dans le cours, [chapitre 2](http://www.fil.univ-lille1.fr/~varre/portail/graphes/docs/chap02-parcours.pdf), vous avez découvert les parcours de graphes.\n",
    "\n",
    "L'objectif de ce TP est de mettre en œuvre ces algorithmes de parcours et de comprendre ce que sont les arbres couvrant par la même occasion (qu'on a évoqué en cours, et qu'on peut retrouver section du chapitre 2).\n",
    "\n",
    "Nous verrons une application au calcul des composantes connexes d'un graphe."
   ]
  },
  {
   "cell_type": "markdown",
   "metadata": {},
   "source": [
    "## Partie 1 - parcours en largeur et en profondeur"
   ]
  },
  {
   "cell_type": "code",
   "execution_count": 2,
   "metadata": {},
   "outputs": [],
   "source": [
    "import networkx as nx\n",
    "import matplotlib.pyplot as plt"
   ]
  },
  {
   "cell_type": "code",
   "execution_count": 3,
   "metadata": {},
   "outputs": [],
   "source": [
    "g = nx.Graph([(0,1),(0,2),(1,3),(2,4),(2,1),(3,5),(5,1)])"
   ]
  },
  {
   "cell_type": "code",
   "execution_count": 4,
   "metadata": {},
   "outputs": [
    {
     "data": {
      "image/png": "[encoded data removed]",
      "text/plain": [
       "<Figure size 432x288 with 1 Axes>"
      ]
     },
     "metadata": {},
     "output_type": "display_data"
    }
   ],
   "source": [
    "nx.draw(g,with_labels=True)"
   ]
  },
  {
   "cell_type": "markdown",
   "metadata": {},
   "source": [
    "Implanter la fonction `parcours_en_largeur` qui étant donné un `graphe` (NetworkX) et un `sommet` de ce graphe, réalise un parcours en **largeur** et retourne la liste des sommets dans l'ordre dans lequel ils ont été visités."
   ]
  },
  {
   "cell_type": "code",
   "execution_count": 5,
   "metadata": {},
   "outputs": [],
   "source": [
    "def parcours_en_largeur(graphe, sommet):\n",
    "    res = list()\n",
    "    tampon = list()\n",
    "    tampon.append(sommet)\n",
    "    while len(tampon) > 0 :\n",
    "      \n",
    "        inter = tampon.pop(0)\n",
    "        \n",
    "        if not(inter in res ):\n",
    "            res.append(inter)\n",
    "            for som in graphe.adj[inter]:\n",
    "                tampon.append(som)\n",
    "    \n",
    "    return res "
   ]
  },
  {
   "cell_type": "markdown",
   "metadata": {},
   "source": [
    "Tester à partir de chaque sommet et vérifier que le parcours est correct."
   ]
  },
  {
   "cell_type": "code",
   "execution_count": 6,
   "metadata": {},
   "outputs": [
    {
     "data": {
      "text/plain": [
       "[0, 1, 2, 3, 5, 4]"
      ]
     },
     "execution_count": 6,
     "metadata": {},
     "output_type": "execute_result"
    }
   ],
   "source": [
    "parcours_en_largeur(g,0)"
   ]
  },
  {
   "cell_type": "markdown",
   "metadata": {},
   "source": [
    "Implanter la fonction `parcours_en_profondeur` qui étant donné un `graphe` (NetworkX) et un `sommet` de ce graphe, réalise un parcours en **profondeur** et retourne la liste des sommets dans l'ordre dans lequel ils ont été visités."
   ]
  },
  {
   "cell_type": "code",
   "execution_count": 7,
   "metadata": {},
   "outputs": [],
   "source": [
    "def parcours_en_profondeur(graphe, sommet):\n",
    "    res= list()\n",
    "    tampon = list()\n",
    "    tampon.append(sommet)\n",
    "    while len(tampon)>0 :\n",
    "        print(tampon)\n",
    "        inter = tampon.pop()\n",
    "        if not(inter in res ):\n",
    "            res.append(inter)\n",
    "            voisins = list(graphe.adj[inter])\n",
    "            voisins.reverse()\n",
    "            for som in voisins:\n",
    "                if not(som in res):\n",
    "                    tampon.append(som)\n",
    "    return res\n",
    "                \n",
    "                \n",
    "              "
   ]
  },
  {
   "cell_type": "markdown",
   "metadata": {},
   "source": [
    "Tester à partir de chaque sommet et vérifier que le parcours est correct."
   ]
  },
  {
   "cell_type": "code",
   "execution_count": 8,
   "metadata": {},
   "outputs": [
    {
     "name": "stdout",
     "output_type": "stream",
     "text": [
      "[0]\n",
      "[2, 1]\n",
      "[2, 5, 2, 3]\n",
      "[2, 5, 2, 5]\n",
      "[2, 5, 2]\n",
      "[2, 5, 4]\n",
      "[2, 5]\n",
      "[2]\n"
     ]
    },
    {
     "data": {
      "text/plain": [
       "[0, 1, 3, 5, 2, 4]"
      ]
     },
     "execution_count": 8,
     "metadata": {},
     "output_type": "execute_result"
    }
   ],
   "source": [
    "parcours_en_profondeur(g,0)"
   ]
  },
  {
   "cell_type": "markdown",
   "metadata": {},
   "source": [
    "## Partie 2 - amélioration du parcours\n",
    "\n",
    "Relire le dernier paragraphe de la section 2.2.3 du chapitre 2."
   ]
  },
  {
   "cell_type": "markdown",
   "metadata": {},
   "source": [
    "Reprendre la fonction de parcours en profondeur et afficher l'état de la pile à chaque tour de boucle. Tester et constater que des sommets sont empilés plusieurs fois."
   ]
  },
  {
   "cell_type": "code",
   "execution_count": 9,
   "metadata": {},
   "outputs": [],
   "source": [
    "## nous le constatons en bas en comparant les résultats des deux fonctions."
   ]
  },
  {
   "cell_type": "markdown",
   "metadata": {},
   "source": [
    "Reprendre l'algorithme de parcours en profondeur et le modifier pour s'assurer qu'un sommet n'est empilé qu'une et une seule fois dans la pile en cours de parcours."
   ]
  },
  {
   "cell_type": "code",
   "execution_count": 10,
   "metadata": {},
   "outputs": [],
   "source": [
    "def parcours_ameliore(graphe, sommet):\n",
    "    res= list()\n",
    "    tampon = list()\n",
    "    tampon.append(sommet)\n",
    "    while len(tampon)>0 :\n",
    "        print(tampon)\n",
    "        inter = tampon.pop()\n",
    "        if not(inter in res ):\n",
    "            res.append(inter)\n",
    "            voisins = list(graphe.adj[inter])\n",
    "            voisins.reverse()\n",
    "            for som in voisins:\n",
    "                if not(som in res) and not(som in tampon):\n",
    "                    tampon.append(som)\n",
    "    return res\n",
    "         "
   ]
  },
  {
   "cell_type": "markdown",
   "metadata": {},
   "source": [
    "Vérifier sur des exemples."
   ]
  },
  {
   "cell_type": "code",
   "execution_count": 11,
   "metadata": {},
   "outputs": [
    {
     "name": "stdout",
     "output_type": "stream",
     "text": [
      "[2]\n",
      "[1, 4, 0]\n",
      "[1, 4]\n",
      "[1]\n",
      "[5, 3]\n",
      "[5]\n"
     ]
    },
    {
     "data": {
      "text/plain": [
       "[2, 0, 4, 1, 3, 5]"
      ]
     },
     "execution_count": 11,
     "metadata": {},
     "output_type": "execute_result"
    }
   ],
   "source": [
    "parcours_ameliore(g,2)"
   ]
  },
  {
   "cell_type": "code",
   "execution_count": 12,
   "metadata": {},
   "outputs": [
    {
     "name": "stdout",
     "output_type": "stream",
     "text": [
      "[2]\n",
      "[1, 4, 0]\n",
      "[1, 4, 1]\n",
      "[1, 4, 5, 3]\n",
      "[1, 4, 5, 5]\n",
      "[1, 4, 5]\n",
      "[1, 4]\n",
      "[1]\n"
     ]
    },
    {
     "data": {
      "text/plain": [
       "[2, 0, 1, 3, 5, 4]"
      ]
     },
     "execution_count": 12,
     "metadata": {},
     "output_type": "execute_result"
    }
   ],
   "source": [
    "parcours_en_profondeur(g,2)"
   ]
  },
  {
   "cell_type": "markdown",
   "metadata": {},
   "source": [
    "Est-ce que votre algorithme implémente toujours un parcours en profondeur ?"
   ]
  },
  {
   "cell_type": "code",
   "execution_count": 13,
   "metadata": {},
   "outputs": [],
   "source": [
    "## oui"
   ]
  },
  {
   "cell_type": "markdown",
   "metadata": {},
   "source": [
    "## Partie 3 - arbre de parcours\n",
    "\n",
    "Vous pouvez vous référer à la section 2.3 'Arbres de parcours' du chapitre 2.\n",
    "\n",
    "Comme lorsqu'on parcourt un graphe on construit implictement un arbre de parcours, on propose ici de créer une fonction qui calcule un nouveau graphe qui est un graphe de parcours du graphe initial. Pour construire cet arbre de parcours, il suffit à chaque fois qu'on emprunte une arête de l'ajouter dans le nouvel arbre."
   ]
  },
  {
   "cell_type": "markdown",
   "metadata": {},
   "source": [
    "Reprennez le code de l'algorithme de parcours en profondeur réalisé en partie 1 et modifiez le pour écrire la fonction `arbre_couvrant` qui cette fois retourne un arbre de parcours plutôt que la liste des sommets."
   ]
  },
  {
   "cell_type": "code",
   "execution_count": 14,
   "metadata": {},
   "outputs": [],
   "source": [
    "def arbre_couvrant (graphe, sommet):\n",
    "    res= list()\n",
    "    arbre = list()\n",
    "    tampon = list()\n",
    "    tampon.append(sommet)\n",
    "    while len(tampon)>0 :\n",
    "        inter = tampon.pop()\n",
    "        if not(inter in res ):\n",
    "            res.append(inter)\n",
    "            voisins = list(graphe.adj[inter])\n",
    "            voisins.reverse()\n",
    "            for som in voisins:\n",
    "                if not(som in res) and not(som in tampon):\n",
    "                    arbre.append((inter,som))\n",
    "                    tampon.append(som)\n",
    "    return nx.Graph(arbre)"
   ]
  },
  {
   "cell_type": "code",
   "execution_count": 15,
   "metadata": {},
   "outputs": [],
   "source": [
    "ac = arbre_couvrant(g,0)"
   ]
  },
  {
   "cell_type": "code",
   "execution_count": 16,
   "metadata": {},
   "outputs": [
    {
     "data": {
      "image/png": "[encoded data removed]",
      "text/plain": [
       "<Figure size 432x288 with 1 Axes>"
      ]
     },
     "metadata": {},
     "output_type": "display_data"
    }
   ],
   "source": [
    "nx.draw(ac,with_labels=True)"
   ]
  },
  {
   "cell_type": "markdown",
   "metadata": {},
   "source": [
    "## Partie 4 - application au calcul de composantes connexes"
   ]
  },
  {
   "cell_type": "markdown",
   "metadata": {},
   "source": [
    "Comme indiqué en section 2.3, un arbre de parcours est appelé arbre couvrant si tous les sommets du graphe sont couverts par un arbre de parcours. L'existence d'un arbre couvrant implique que le graphe est connexe (et réciproquement) puisque qu'à partir de n'importe quel sommet il faut pouvoir accéder à tous les autres (il existe un chemin entre chaque paire de sommets du graphe)."
   ]
  },
  {
   "cell_type": "markdown",
   "metadata": {},
   "source": [
    "Ecrire une fonction `est_connexe` qui teste si un graphe est connexe."
   ]
  },
  {
   "cell_type": "code",
   "execution_count": 17,
   "metadata": {},
   "outputs": [],
   "source": [
    "def est_connexe(graphe):\n",
    "    res = True\n",
    "    if len(list(graphe)) == len(list(arbre_couvrant(graphe,list(graphe)[0]))) :\n",
    "        res = True\n",
    "    else :\n",
    "        res = False\n",
    "    return res"
   ]
  },
  {
   "cell_type": "code",
   "execution_count": 18,
   "metadata": {},
   "outputs": [
    {
     "data": {
      "text/plain": [
       "True"
      ]
     },
     "execution_count": 18,
     "metadata": {},
     "output_type": "execute_result"
    }
   ],
   "source": [
    "est_connexe(ac)"
   ]
  },
  {
   "cell_type": "code",
   "execution_count": 19,
   "metadata": {},
   "outputs": [],
   "source": [
    "## ac est bel est bien un graphe (et arbre covrant) connexe"
   ]
  },
  {
   "cell_type": "code",
   "execution_count": 25,
   "metadata": {},
   "outputs": [],
   "source": [
    "g2 = nx.Graph([(0,1),(0,2),(1,3),(2,4),(2,1),(3,5),(5,1),(6,7)])"
   ]
  },
  {
   "cell_type": "code",
   "execution_count": 26,
   "metadata": {},
   "outputs": [
    {
     "data": {
      "image/png": "[encoded data removed]",
      "text/plain": [
       "<Figure size 432x288 with 1 Axes>"
      ]
     },
     "metadata": {},
     "output_type": "display_data"
    }
   ],
   "source": [
    "nx.draw(g2,with_labels=True)"
   ]
  },
  {
   "cell_type": "code",
   "execution_count": 27,
   "metadata": {},
   "outputs": [
    {
     "data": {
      "text/plain": [
       "False"
      ]
     },
     "execution_count": 27,
     "metadata": {},
     "output_type": "execute_result"
    }
   ],
   "source": [
    "est_connexe(g2)"
   ]
  },
  {
   "cell_type": "code",
   "execution_count": 199,
   "metadata": {},
   "outputs": [],
   "source": [
    "## g2 n'est pas un graphe connexe"
   ]
  },
  {
   "cell_type": "markdown",
   "metadata": {},
   "source": [
    "Lire la section 2.4.1 du chapitre 2 qui définit ce qu'est une composante connexe."
   ]
  },
  {
   "cell_type": "markdown",
   "metadata": {},
   "source": [
    "Ecrire une fonction `composantes_connexes` qui calcule l'ensemble des composantes connexes d'un graphe."
   ]
  },
  {
   "cell_type": "code",
   "execution_count": 42,
   "metadata": {},
   "outputs": [],
   "source": [
    "def composantes_connexes(graphe):\n",
    "    a_traiter = list(graphe)\n",
    "    cc = list()\n",
    "    for elt in a_traiter :\n",
    "        traité = list(arbre_couvrant(graphe,elt))\n",
    "        cc.append(arbre_couvrant(graphe,elt))\n",
    "        for elt in traité :\n",
    "            a_traiter.remove(elt)\n",
    "    print(\"le Graphe contient \"+str((len(cc)))+\" composantes connexes :\")       \n",
    "    for i in range(len(cc)) :\n",
    "        print(cc[i].nodes())\n",
    "    return [set(cc[j].nodes()) for j in range(len(cc))]"
   ]
  },
  {
   "cell_type": "code",
   "execution_count": 43,
   "metadata": {},
   "outputs": [
    {
     "name": "stdout",
     "output_type": "stream",
     "text": [
      "le Graphe contient 2 composantes connexes :\n",
      "[0, 2, 1, 5, 3, 4]\n",
      "[7, 6]\n"
     ]
    },
    {
     "data": {
      "text/plain": [
       "[{0, 1, 2, 3, 4, 5}, {6, 7}]"
      ]
     },
     "execution_count": 43,
     "metadata": {},
     "output_type": "execute_result"
    }
   ],
   "source": [
    "composantes_connexes(g2)"
   ]
  },
  {
   "cell_type": "code",
   "execution_count": 437,
   "metadata": {},
   "outputs": [],
   "source": [
    "## La fonction nous renvoie les composantes connexes du graphe.\n",
    "## De plus elle affiche une description des composants connexes qu'il contient."
   ]
  }
 ],
 "metadata": {
  "kernelspec": {
   "display_name": "Python 3 (ipykernel)",
   "language": "python",
   "name": "python3"
  },
  "language_info": {
   "codemirror_mode": {
    "name": "ipython",
    "version": 3
   },
   "file_extension": ".py",
   "mimetype": "text/x-python",
   "name": "python",
   "nbconvert_exporter": "python",
   "pygments_lexer": "ipython3",
   "version": "3.8.10"
  }
 },
 "nbformat": 4,
 "nbformat_minor": 4
}
